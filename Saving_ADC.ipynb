{
  "nbformat": 4,
  "nbformat_minor": 0,
  "metadata": {
    "colab": {
      "provenance": [],
      "include_colab_link": true
    },
    "kernelspec": {
      "name": "python3",
      "display_name": "Python 3"
    },
    "language_info": {
      "name": "python"
    }
  },
  "cells": [
    {
      "cell_type": "markdown",
      "metadata": {
        "id": "view-in-github",
        "colab_type": "text"
      },
      "source": [
        "<a href=\"https://colab.research.google.com/github/tansaurus/VCMI/blob/main/Saving_ADC.ipynb\" target=\"_parent\"><img src=\"https://colab.research.google.com/assets/colab-badge.svg\" alt=\"Open In Colab\"/></a>"
      ]
    },
    {
      "cell_type": "code",
      "source": [
        "from google.colab import drive\n",
        "drive.mount('/content/drive')"
      ],
      "metadata": {
        "colab": {
          "base_uri": "https://localhost:8080/"
        },
        "id": "N4FHp7rk_wEk",
        "outputId": "478627d1-6917-4ddc-9faa-ee4f134f25a3"
      },
      "execution_count": null,
      "outputs": [
        {
          "output_type": "stream",
          "name": "stdout",
          "text": [
            "Mounted at /content/drive\n"
          ]
        }
      ]
    },
    {
      "cell_type": "code",
      "execution_count": null,
      "metadata": {
        "id": "8--wrm20_kQq"
      },
      "outputs": [],
      "source": [
        "import shutil\n",
        "import os\n",
        "import glob\n",
        "import zipfile\n",
        "import random\n",
        "import torch\n",
        "import numpy as np\n",
        "import torchvision.transforms as transforms\n",
        "from PIL import Image\n",
        "from torch.utils.data import DataLoader, Dataset"
      ]
    },
    {
      "cell_type": "code",
      "source": [
        "batch_size = 32\n",
        "epochs = 20\n",
        "lr = 1e-4\n",
        "gamma = 0.7\n",
        "seed = 42\n",
        "\n",
        "def seed_everything(seed):\n",
        "    random.seed(seed)\n",
        "    os.environ['PYTHONHASHSEED'] = str(seed)\n",
        "    np.random.seed(seed)\n",
        "    torch.manual_seed(seed)\n",
        "    torch.cuda.manual_seed(seed)\n",
        "    torch.cuda.manual_seed_all(seed)\n",
        "    torch.backends.cudnn.deterministic = True\n",
        "    torch.backends.cudnn.benchmark = False\n",
        "\n",
        "seed_everything(seed)"
      ],
      "metadata": {
        "id": "d8IiNIwfAcZs"
      },
      "execution_count": null,
      "outputs": []
    },
    {
      "cell_type": "code",
      "source": [
        "device = 'cuda'"
      ],
      "metadata": {
        "id": "ODBlO2nb_079"
      },
      "execution_count": null,
      "outputs": []
    },
    {
      "cell_type": "code",
      "source": [
        "os.makedirs('data', exist_ok=True)"
      ],
      "metadata": {
        "id": "dKHsdG7I_6Xl"
      },
      "execution_count": null,
      "outputs": []
    },
    {
      "cell_type": "code",
      "source": [
        "base_dir = 'data'\n",
        "train_g1_dir = os.path.join(base_dir, 'train/g1')\n",
        "train_g2_dir = os.path.join(base_dir, 'train/g2')\n",
        "test_g1_dir = os.path.join(base_dir, 'test/g1')\n",
        "test_g2_dir = os.path.join(base_dir, 'test/g2')\n",
        "val_g1_dir = os.path.join(base_dir, 'val/g1')\n",
        "val_g2_dir = os.path.join(base_dir, 'val/g2')"
      ],
      "metadata": {
        "id": "PZEocAAj_7Dq"
      },
      "execution_count": null,
      "outputs": []
    },
    {
      "cell_type": "code",
      "source": [
        "with zipfile.ZipFile('/content/drive/MyDrive/dataset/SN_Cropped_ADC.zip') as data_zip:\n",
        "     data_zip.extractall('data')"
      ],
      "metadata": {
        "id": "ioPL_sr7_8FO"
      },
      "execution_count": null,
      "outputs": []
    },
    {
      "cell_type": "code",
      "source": [
        "train_g1_list = glob.glob(os.path.join(train_g1_dir, '*.png'))\n",
        "train_g2_list = glob.glob(os.path.join(train_g2_dir, '*.png'))\n",
        "test_g1_list = glob.glob(os.path.join(test_g1_dir, '*.png'))\n",
        "test_g2_list = glob.glob(os.path.join(test_g2_dir, '*.png'))\n",
        "val_g1_list = glob.glob(os.path.join(val_g1_dir, '*.png'))\n",
        "val_g2_list = glob.glob(os.path.join(val_g2_dir, '*.png'))"
      ],
      "metadata": {
        "id": "ANoqxfid_867"
      },
      "execution_count": null,
      "outputs": []
    },
    {
      "cell_type": "code",
      "source": [
        "# 리스트 내용 확인\n",
        "print(f'Train G1 list: ',len(train_g1_list))\n",
        "print(f'Train G2 list: ',len(train_g2_list))\n",
        "print(f'Test G1 list: ',len(test_g1_list))\n",
        "print(f'Test G2 list: ',len(test_g2_list))\n",
        "print(f'Val G1 list: ',len(val_g1_list))\n",
        "print(f'Val G2 list: ',len(val_g2_list))"
      ],
      "metadata": {
        "colab": {
          "base_uri": "https://localhost:8080/"
        },
        "id": "qYeMBTMR_9k6",
        "outputId": "03c2f952-6b96-411f-c3a2-4b967f6c1aa6"
      },
      "execution_count": null,
      "outputs": [
        {
          "output_type": "stream",
          "name": "stdout",
          "text": [
            "Train G1 list:  168\n",
            "Train G2 list:  48\n",
            "Test G1 list:  160\n",
            "Test G2 list:  48\n",
            "Val G1 list:  72\n",
            "Val G2 list:  11\n"
          ]
        }
      ]
    },
    {
      "cell_type": "code",
      "source": [
        "import random\n",
        "from torchvision import transforms\n",
        "from PIL import Image\n",
        "import os\n",
        "\n",
        "# 48개 이미지 중에서 중복을 허용하여 120개 선택\n",
        "random.seed(seed)  # 일관된 결과를 위한 시드 설정\n",
        "selected_g2_images = [random.choice(train_g2_list) for _ in range(288)]\n",
        "\n",
        "augmentation_transforms = transforms.Compose([\n",
        "    transforms.RandomHorizontalFlip(p=0.5),\n",
        "    transforms.RandomRotation(10),\n",
        "    transforms.RandomAffine(0, translate=(0.2, 0.2)),\n",
        "    transforms.Resize((224, 224)),\n",
        "    transforms.ToTensor()\n",
        "])\n",
        "\n",
        "train_g2_augmented = []\n",
        "\n",
        "# 선택된 이미지를 각각 1번 증강\n",
        "for idx, img_path in enumerate(selected_g2_images):\n",
        "    img = Image.open(img_path)\n",
        "    seed_everything(seed + idx)  # 각 증강마다 다른 시드 사용\n",
        "    augmented_img = augmentation_transforms(img)\n",
        "    augmented_img_pil = transforms.ToPILImage()(augmented_img)\n",
        "    train_g2_augmented.append((augmented_img_pil, 1))\n",
        "\n",
        "# train_g2_augmented의 이미지를 저장\n",
        "train_g2_augmented_dir = train_g2_dir  # 저장 경로 설정\n",
        "\n",
        "for idx, (image, label) in enumerate(train_g2_augmented):\n",
        "    image_path = os.path.join(train_g2_augmented_dir, f\"augmented_image_{idx}.png\")\n",
        "    image.save(image_path)  # 이미지 저장\n",
        "    train_g2_augmented[idx] = (image_path, label)  # 저장된 이미지 경로로 변경\n"
      ],
      "metadata": {
        "id": "2T_OUXvl_-jd"
      },
      "execution_count": null,
      "outputs": []
    },
    {
      "cell_type": "code",
      "source": [
        "# g1은 레이블 0, g2는 레이블 1로 할당\n",
        "train_g2_list = train_g2_list + train_g2_augmented\n",
        "\n",
        "train_g1_data = [(path, 0) for path in train_g1_list]\n",
        "train_g2_data = [(path, 1) for path in train_g2_list]\n",
        "\n",
        "test_g1_data = [(path, 0) for path in test_g1_list]\n",
        "test_g2_data = [(path, 1) for path in test_g2_list]\n",
        "\n",
        "val_g1_data = [(path, 0) for path in val_g1_list]\n",
        "val_g2_data = [(path, 1) for path in val_g2_list]\n"
      ],
      "metadata": {
        "id": "b8O4OgcD__Sh"
      },
      "execution_count": null,
      "outputs": []
    },
    {
      "cell_type": "code",
      "source": [
        "train_data = train_g1_data + train_g2_data\n",
        "test_data = test_g1_data + test_g2_data\n",
        "valid_data = val_g1_data + val_g2_data"
      ],
      "metadata": {
        "id": "2lpGw1zfDYxz"
      },
      "execution_count": null,
      "outputs": []
    },
    {
      "cell_type": "code",
      "source": [
        "transform = transforms.Compose([\n",
        "    transforms.Resize((224, 224)),\n",
        "    transforms.Grayscale(num_output_channels=3),  # 이미지를 흑백으로 변환하고 채널 수를 3으로 설정합니다.\n",
        "    transforms.ToTensor(),\n",
        "])\n",
        "\n",
        "class T2wMRDataset(torch.utils.data.Dataset):\n",
        "    def __init__(self, file_list):\n",
        "        self.file_list = file_list  # file_list는 [(img_path, label), ...] 형태\n",
        "\n",
        "    def __len__(self):\n",
        "        return len(self.file_list)\n",
        "\n",
        "    def __getitem__(self, idx):\n",
        "        np.random.seed(seed)\n",
        "        torch.manual_seed(seed)\n",
        "        img_path, label = self.file_list[idx]\n",
        "        return img_path, label  # 경로와 레이블을 튜플로 반환"
      ],
      "metadata": {
        "id": "SnDtxEFxGu9X"
      },
      "execution_count": null,
      "outputs": []
    },
    {
      "cell_type": "code",
      "source": [
        "train_dataset = T2wMRDataset(train_data)\n",
        "test_dataset = T2wMRDataset(test_data)\n",
        "val_dataset = T2wMRDataset(valid_data)\n",
        "\n",
        "print(len(train_dataset))\n",
        "print(len(test_dataset))\n",
        "print(len(val_dataset))"
      ],
      "metadata": {
        "id": "-wIp6oNIEEli",
        "colab": {
          "base_uri": "https://localhost:8080/"
        },
        "outputId": "c4f3f499-8a22-4cec-e994-ded923bf0835"
      },
      "execution_count": null,
      "outputs": [
        {
          "output_type": "stream",
          "name": "stdout",
          "text": [
            "504\n",
            "208\n",
            "83\n"
          ]
        }
      ]
    },
    {
      "cell_type": "code",
      "source": [
        "import csv\n",
        "import os\n",
        "import shutil\n",
        "\n",
        "def save_image_paths_labels(loader, dest_dir, csv_filename):\n",
        "    # dest_dir이 존재하지 않으면 생성\n",
        "    if not os.path.exists(dest_dir):\n",
        "        os.makedirs(dest_dir, exist_ok=True)\n",
        "\n",
        "    # CSV 파일 경로\n",
        "    csv_path = os.path.join(dest_dir, csv_filename)\n",
        "\n",
        "    with open(csv_path, mode='w', newline='') as file:\n",
        "        writer = csv.writer(file)\n",
        "        writer.writerow([\"image_path\", \"label\"])\n",
        "\n",
        "        for img_paths, labels in loader:\n",
        "            for img_path, label in zip(img_paths, labels):\n",
        "                # img_path에서 실제 경로 문자열을 추출합니다.\n",
        "                img_path_str = img_path[0] if isinstance(img_path, tuple) else img_path\n",
        "                file_name = os.path.basename(img_path_str)\n",
        "                dest_path = os.path.join(dest_dir, file_name)\n",
        "\n",
        "                # 이미지를 dest_dir로 복사합니다.\n",
        "                shutil.copy(img_path_str, dest_path)\n",
        "\n",
        "                # CSV 파일에 경로와 레이블을 기록합니다.\n",
        "                writer.writerow([dest_path, int(label)])\n",
        "\n",
        "\n",
        "# DataLoader 인스턴스 생성\n",
        "train_loader = DataLoader(train_dataset, batch_size=1, shuffle=False)\n",
        "test_loader = DataLoader(test_dataset, batch_size=1, shuffle=False)\n",
        "val_loader = DataLoader(val_dataset, batch_size=1, shuffle=False)\n",
        "\n",
        "# 각 DataLoader에 대해 실행\n",
        "save_image_paths_labels(train_loader, '/content/drive/My Drive/Colab Notebooks/VCMI/monomodal_HGG/ADC/train', 'train_labels.csv')\n",
        "save_image_paths_labels(test_loader, '/content/drive/My Drive/Colab Notebooks/VCMI/monomodal_HGG/ADC/test', 'test_labels.csv')\n",
        "save_image_paths_labels(val_loader, '/content/drive/My Drive/Colab Notebooks/VCMI/monomodal_HGG/ADC/val', 'val_labels.csv')\n"
      ],
      "metadata": {
        "id": "PG1TnIi0__4G"
      },
      "execution_count": null,
      "outputs": []
    }
  ]
}