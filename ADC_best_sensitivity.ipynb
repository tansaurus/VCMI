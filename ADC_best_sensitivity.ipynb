{
  "cells": [
    {
      "cell_type": "markdown",
      "metadata": {
        "id": "view-in-github",
        "colab_type": "text"
      },
      "source": [
        "<a href=\"https://colab.research.google.com/github/tansaurus/VCMI/blob/main/ADC_best_sensitivity.ipynb\" target=\"_parent\"><img src=\"https://colab.research.google.com/assets/colab-badge.svg\" alt=\"Open In Colab\"/></a>"
      ]
    },
    {
      "cell_type": "markdown",
      "metadata": {
        "id": "Jb12JRXT3Fum"
      },
      "source": [
        "# **Visual Transformer**\n",
        "\n",
        "Training Visual Transformer on ADC"
      ]
    },
    {
      "cell_type": "code",
      "execution_count": null,
      "metadata": {
        "colab": {
          "base_uri": "https://localhost:8080/"
        },
        "id": "gCDRhu4s3FLH",
        "outputId": "5b78f2b8-a193-496a-e617-b85b3a38ac0d"
      },
      "outputs": [
        {
          "output_type": "stream",
          "name": "stdout",
          "text": [
            "Mounted at /content/drive\n"
          ]
        }
      ],
      "source": [
        "from google.colab import drive\n",
        "drive.mount('/content/drive')"
      ]
    },
    {
      "cell_type": "code",
      "execution_count": null,
      "metadata": {
        "colab": {
          "base_uri": "https://localhost:8080/"
        },
        "id": "VQiF8chK3Rtv",
        "outputId": "bf65ac05-464b-4b46-bee8-fc87c4e04699"
      },
      "outputs": [
        {
          "output_type": "stream",
          "name": "stdout",
          "text": [
            "Thu May 16 00:46:00 2024       \n",
            "+---------------------------------------------------------------------------------------+\n",
            "| NVIDIA-SMI 535.104.05             Driver Version: 535.104.05   CUDA Version: 12.2     |\n",
            "|-----------------------------------------+----------------------+----------------------+\n",
            "| GPU  Name                 Persistence-M | Bus-Id        Disp.A | Volatile Uncorr. ECC |\n",
            "| Fan  Temp   Perf          Pwr:Usage/Cap |         Memory-Usage | GPU-Util  Compute M. |\n",
            "|                                         |                      |               MIG M. |\n",
            "|=========================================+======================+======================|\n",
            "|   0  Tesla T4                       Off | 00000000:00:04.0 Off |                    0 |\n",
            "| N/A   41C    P8               9W /  70W |      0MiB / 15360MiB |      0%      Default |\n",
            "|                                         |                      |                  N/A |\n",
            "+-----------------------------------------+----------------------+----------------------+\n",
            "                                                                                         \n",
            "+---------------------------------------------------------------------------------------+\n",
            "| Processes:                                                                            |\n",
            "|  GPU   GI   CI        PID   Type   Process name                            GPU Memory |\n",
            "|        ID   ID                                                             Usage      |\n",
            "|=======================================================================================|\n",
            "|  No running processes found                                                           |\n",
            "+---------------------------------------------------------------------------------------+\n"
          ]
        }
      ],
      "source": [
        "!nvidia-smi"
      ]
    },
    {
      "cell_type": "code",
      "execution_count": null,
      "metadata": {
        "id": "tkc1mZfG3nI7"
      },
      "outputs": [],
      "source": [
        "# 미래 버전의 Python 기능을 현재 버전에서 사용하도록 설정\n",
        "from __future__ import print_function\n",
        "\n",
        "# 데이터 조작 및 계산을 위한 라이브러리\n",
        "import numpy as np\n",
        "import pandas as pd\n",
        "\n",
        "# 머신러닝 및 데이터 분석 라이브러리\n",
        "from sklearn.manifold import TSNE\n",
        "from sklearn.metrics import accuracy_score\n",
        "from sklearn.cluster import KMeans\n",
        "from sklearn.model_selection import train_test_split\n",
        "\n",
        "# 시각화 라이브러리\n",
        "import matplotlib.pyplot as plt\n",
        "from mpl_toolkits.mplot3d import Axes3D\n",
        "import torchvision.transforms.functional as TF\n",
        "\n",
        "# 딥러닝 및 이미지 처리 라이브러리\n",
        "import torch\n",
        "import torch.nn as nn\n",
        "import torch.nn.functional as F\n",
        "import torch.optim as optim\n",
        "from torch.utils.data import DataLoader, Dataset\n",
        "from torch.optim.lr_scheduler import StepLR\n",
        "import torchvision.models as models\n",
        "import torchvision.transforms as transforms\n",
        "from PIL import Image\n",
        "\n",
        "# 진행률 표시를 위한 라이브러리\n",
        "from tqdm import tqdm\n",
        "\n",
        "# 파일 및 디렉토리 작업을 위한 라이브러리\n",
        "import os\n",
        "import glob\n",
        "import zipfile\n",
        "\n",
        "# 기타\n",
        "from itertools import chain\n",
        "import random\n",
        "from sklearn.metrics import confusion_matrix\n",
        "import shutil\n"
      ]
    },
    {
      "cell_type": "markdown",
      "metadata": {
        "id": "Xq4STRGa3vVu"
      },
      "source": [
        "Training settings\n",
        "\n",
        "* batch size는 한 번에 모델이 학습하는 데이터 샘플의 개수\n",
        "* 1 epoch은 전체 데이터셋을 한 번 사용하여 학습한 것\n",
        "* gamma는 학습률 스케줄러에서 주어진 간격마다 학습률을 조정하는 데 사용되는 매개변수\n",
        "* seed는 데이터 세트를 랜덤하게 분할하거나 모델의 가중치를 초기화할 때 시드를 고정하면 매번 같은 방식으로 데이터를 분할하고 동일한 초기 가중치를 사용하여 모델을 시작할 수 있게 한다"
      ]
    },
    {
      "cell_type": "code",
      "execution_count": null,
      "metadata": {
        "id": "T-47o2XJ3zqS"
      },
      "outputs": [],
      "source": [
        "batch_size = 64\n",
        "epochs = 100\n",
        "lr = 1e-7\n",
        "gamma = 0.8\n",
        "seed = 30"
      ]
    },
    {
      "cell_type": "markdown",
      "metadata": {
        "id": "XEOxUBXP34bk"
      },
      "source": [
        "seed_everything\n",
        "\n",
        "여러 랜덤 수 생성 시스템의 시드를 고정하여 실험의 재현성을 보장하는 함수"
      ]
    },
    {
      "cell_type": "code",
      "execution_count": null,
      "metadata": {
        "id": "q4tHMTIO356s"
      },
      "outputs": [],
      "source": [
        "def seed_everything(seed):\n",
        "    random.seed(seed)\n",
        "    os.environ['PYTHONHASHSEED'] = str(seed)\n",
        "    np.random.seed(seed)\n",
        "    torch.manual_seed(seed)\n",
        "    torch.cuda.manual_seed(seed)\n",
        "    torch.cuda.manual_seed_all(seed)\n",
        "    torch.backends.cudnn.deterministic = True\n",
        "    torch.backends.cudnn.benchmark = False\n",
        "\n",
        "seed_everything(seed)"
      ]
    },
    {
      "cell_type": "code",
      "execution_count": null,
      "metadata": {
        "id": "PDfiqoTe38Cx"
      },
      "outputs": [],
      "source": [
        "device = 'cuda'"
      ]
    },
    {
      "cell_type": "markdown",
      "metadata": {
        "id": "thPi-P7x6jj-"
      },
      "source": [
        "# **Data Loader**"
      ]
    },
    {
      "cell_type": "code",
      "source": [
        "import pandas as pd\n",
        "\n",
        "train_data = pd.read_csv('/content/drive/My Drive/Colab Notebooks/VCMI/monomodal_HGG/ADC/train/train_labels.csv')\n",
        "valid_data = pd.read_csv('/content/drive/My Drive/Colab Notebooks/VCMI/monomodal_HGG/ADC/val/val_labels.csv')\n",
        "test_data = pd.read_csv('/content/drive/My Drive/Colab Notebooks/VCMI/monomodal_HGG/ADC/test/test_labels.csv')"
      ],
      "metadata": {
        "id": "-7QPNPJJYcQC"
      },
      "execution_count": null,
      "outputs": []
    },
    {
      "cell_type": "code",
      "source": [
        "class Dataset(Dataset):\n",
        "    def __init__(self, dataframe, transform=None):\n",
        "        self.dataframe = dataframe\n",
        "        self.transform = transform\n",
        "\n",
        "    def __len__(self):\n",
        "        return len(self.dataframe)\n",
        "\n",
        "    def __getitem__(self, idx):\n",
        "        img_path = self.dataframe.iloc[idx, 0]\n",
        "        image = Image.open(img_path).convert('RGB')\n",
        "        label = self.dataframe.iloc[idx, 1]\n",
        "\n",
        "        if self.transform:\n",
        "            image = self.transform(image)\n",
        "\n",
        "        return img_path, image, label\n",
        "\n",
        "transform = transforms.Compose([\n",
        "    transforms.Resize((224, 224)),\n",
        "    transforms.ToTensor(),\n",
        "])\n",
        "\n",
        "train_dataset = Dataset(train_data, transform=transform)\n",
        "train_loader = DataLoader(train_dataset, batch_size=batch_size, shuffle=False)\n",
        "\n",
        "valid_dataset = Dataset(valid_data, transform=transform)\n",
        "valid_loader = DataLoader(valid_dataset, batch_size=batch_size, shuffle=False)\n",
        "\n",
        "test_dataset = Dataset(test_data, transform=transform)\n",
        "test_loader = DataLoader(test_dataset, batch_size=batch_size, shuffle=False)"
      ],
      "metadata": {
        "id": "UEcgiDOxKheR"
      },
      "execution_count": null,
      "outputs": []
    },
    {
      "cell_type": "markdown",
      "metadata": {
        "id": "lL_Y9OU88b52"
      },
      "source": [
        "# **ViT**"
      ]
    },
    {
      "cell_type": "code",
      "execution_count": null,
      "metadata": {
        "id": "zykqkcf78eED",
        "colab": {
          "base_uri": "https://localhost:8080/"
        },
        "outputId": "6a66b912-2740-48ed-efad-aa8f300cd5e9"
      },
      "outputs": [
        {
          "output_type": "stream",
          "name": "stderr",
          "text": [
            "Downloading: \"https://download.pytorch.org/models/vit_b_16-c867db91.pth\" to /root/.cache/torch/hub/checkpoints/vit_b_16-c867db91.pth\n",
            "100%|██████████| 330M/330M [00:02<00:00, 147MB/s]\n"
          ]
        }
      ],
      "source": [
        "model = models.vit_b_16(weights=models.ViT_B_16_Weights.IMAGENET1K_V1).to(device)\n",
        "\n",
        "transform = transforms.Compose([\n",
        "    transforms.Resize((224, 224)),\n",
        "    transforms.Grayscale(num_output_channels=3),\n",
        "    transforms.ToTensor(),\n",
        "])\n",
        "def extract_features(model, data_loader):\n",
        "    model.eval()\n",
        "    features = []\n",
        "    labels = []\n",
        "    file_paths = []  # 파일 경로를 저장할 리스트\n",
        "    with torch.no_grad():\n",
        "        for file_path, images, targets in data_loader:\n",
        "            images = images.to(device)\n",
        "            outputs = model(images)\n",
        "            features.extend(outputs.cpu().numpy())  # 특성을 리스트에 추가\n",
        "            labels.extend(targets.cpu().numpy())  # 라벨을 리스트에 추가\n",
        "            file_paths.extend(file_path)  # 파일 경로를 리스트에 추가\n",
        "\n",
        "    features = np.array(features)\n",
        "    labels = np.array(labels)\n",
        "    return file_paths, features, labels\n"
      ]
    },
    {
      "cell_type": "code",
      "execution_count": null,
      "metadata": {
        "id": "WpQQ1-nB8g7j"
      },
      "outputs": [],
      "source": [
        "num_classes = 2\n",
        "model.heads.head = nn.Linear(model.heads.head.in_features, num_classes).to(device)\n",
        "# loss function\n",
        "criterion = nn.CrossEntropyLoss()\n",
        "# optimizer\n",
        "optimizer = optim.Adam(model.parameters(), lr=lr)\n",
        "# scheduler\n",
        "scheduler = StepLR(optimizer, step_size=40, gamma=gamma)"
      ]
    },
    {
      "cell_type": "markdown",
      "metadata": {
        "id": "o_KuOAf68lCD"
      },
      "source": [
        "# **t-SNE Before Training**"
      ]
    },
    {
      "cell_type": "code",
      "execution_count": null,
      "metadata": {
        "colab": {
          "base_uri": "https://localhost:8080/",
          "height": 545
        },
        "id": "chw4TEeh8jyk",
        "outputId": "cd518d5e-6dab-44e7-f878-46146dd59c04"
      },
      "outputs": [
        {
          "output_type": "display_data",
          "data": {
            "text/plain": [
              "<Figure size 1200x600 with 2 Axes>"
            ],
            "image/png": "[encoded data removed]"
          },
          "metadata": {}
        }
      ],
      "source": [
        "# 훈련 및 검증 데이터셋의 특성 추출\n",
        "train_paths, train_features, train_labels = extract_features(model, train_loader)\n",
        "val_paths, val_features, val_labels = extract_features(model, valid_loader)\n",
        "\n",
        "# 2차원 t-SNE 모델 생성 및 특성 축소\n",
        "tsne_2d = TSNE(n_components=2, random_state=0, perplexity=20)\n",
        "train_features_2d = tsne_2d.fit_transform(train_features)\n",
        "val_features_2d = tsne_2d.fit_transform(val_features)\n",
        "\n",
        "fig = plt.figure(figsize=(12, 6))\n",
        "\n",
        "# 2차원 산점도 그리기 - 훈련 데이터셋\n",
        "ax1 = fig.add_subplot(121)\n",
        "ax1.scatter(train_features_2d[train_labels == 0, 0],\n",
        "            train_features_2d[train_labels == 0, 1],\n",
        "            s=50, c='blue', label='g1', alpha=0.5)\n",
        "ax1.scatter(train_features_2d[train_labels == 1, 0],\n",
        "            train_features_2d[train_labels == 1, 1],\n",
        "            s=50, c='red', label='g2', alpha=0.5)\n",
        "ax1.set_title('Training Dataset Before Training')\n",
        "ax1.legend()\n",
        "\n",
        "# 2차원 산점도 그리기 - 검증 데이터셋\n",
        "ax2 = fig.add_subplot(122)\n",
        "ax2.scatter(val_features_2d[val_labels == 0, 0],\n",
        "            val_features_2d[val_labels == 0, 1],\n",
        "            s=50, c='blue', label='g1', alpha=0.5)\n",
        "ax2.scatter(val_features_2d[val_labels == 1, 0],\n",
        "            val_features_2d[val_labels == 1, 1],\n",
        "            s=50, c='red', label='g2', alpha=0.5)\n",
        "ax2.set_title('Validation Dataset Before Training')\n",
        "ax2.legend()\n",
        "\n",
        "plt.show()"
      ]
    },
    {
      "cell_type": "markdown",
      "metadata": {
        "id": "SaBRwRjV80CV"
      },
      "source": [
        "# **Train**"
      ]
    },
    {
      "cell_type": "code",
      "execution_count": null,
      "metadata": {
        "id": "XDm3on4c8zAB"
      },
      "outputs": [],
      "source": [
        "train_losses = []\n",
        "train_accuracies = []\n",
        "val_losses = []\n",
        "val_accuracies = []\n",
        "\n",
        "def train(model, train_loader, valid_loader, criterion, optimizer, scheduler=scheduler, epochs=epochs, save_file='model_state_dict.pth', target_class=1):\n",
        "    best_sensitivity = 0\n",
        "    best_val_loss = float('inf')\n",
        "    best_model_state_dict = None\n",
        "\n",
        "    for epoch in range(epochs):\n",
        "        model.train()\n",
        "        epoch_loss = 0\n",
        "        correct = 0\n",
        "        total = 0\n",
        "\n",
        "        for path, data, label in tqdm(train_loader):\n",
        "            data = data.to(device)\n",
        "            label = label.to(device)\n",
        "            label_one_hot = torch.nn.functional.one_hot(label, num_classes=num_classes).float()\n",
        "\n",
        "            optimizer.zero_grad()\n",
        "            output = model(data)\n",
        "            loss = criterion(output, label_one_hot)\n",
        "            loss.backward()\n",
        "            optimizer.step()\n",
        "\n",
        "            epoch_loss += loss.item()\n",
        "            _, predicted = output.max(1)\n",
        "            total += label.size(0)\n",
        "            correct += predicted.eq(label).sum().item()\n",
        "\n",
        "        train_accuracy = correct / total\n",
        "        train_loss = epoch_loss / len(train_loader)\n",
        "\n",
        "        model.eval()\n",
        "        val_loss = 0\n",
        "        correct = 0\n",
        "        val_total = 0\n",
        "        TP = 0\n",
        "        FN = 0\n",
        "\n",
        "        for path, data, label in valid_loader:\n",
        "            data = data.to(device)\n",
        "            label = label.to(device)\n",
        "            label_one_hot = torch.nn.functional.one_hot(label, num_classes=num_classes).float()\n",
        "            output = model(data)\n",
        "            loss = criterion(output, label_one_hot)\n",
        "            val_loss += loss.item()\n",
        "            _, predicted = output.max(1)\n",
        "            val_total += label.size(0)\n",
        "            correct += predicted.eq(label).sum().item()\n",
        "\n",
        "            # Sensitivity for class '1'\n",
        "            TP += (predicted.eq(target_class) & label.eq(target_class)).sum().item()\n",
        "            FN += (predicted.ne(target_class) & label.eq(target_class)).sum().item()\n",
        "\n",
        "        sensitivity = TP / (TP + FN) if (TP + FN) > 0 else 0\n",
        "\n",
        "        val_accuracy = correct / val_total\n",
        "        val_loss /= len(valid_loader)\n",
        "\n",
        "        train_losses.append(train_loss)\n",
        "        train_accuracies.append(train_accuracy)\n",
        "        val_losses.append(val_loss)\n",
        "        val_accuracies.append(val_accuracy)\n",
        "\n",
        "        scheduler.step()\n",
        "\n",
        "        if sensitivity > best_sensitivity or (sensitivity == best_sensitivity and val_loss < best_val_loss):\n",
        "            best_sensitivity = sensitivity\n",
        "            best_val_loss = val_loss\n",
        "            best_model_state_dict = model.state_dict().copy()\n",
        "            print(f\"Epoch {epoch+1}: Saving new best model with sensitivity {sensitivity:.4f}\")\n",
        "\n",
        "        print(f\"Epoch {epoch+1}: Train Loss {train_loss:.4f}, Train Accuracy {train_accuracy:.4f}, Val Loss {val_loss:.4f}, Val Accuracy {val_accuracy:.4f}, Sensitivity {sensitivity:.4f}\")\n",
        "        print(\"lr: \", optimizer.param_groups[0]['lr'])\n",
        "\n",
        "    if best_model_state_dict:\n",
        "        model.load_state_dict(best_model_state_dict)\n",
        "        torch.save(best_model_state_dict, save_file)\n",
        "\n",
        "    return torch.load(save_file)\n"
      ]
    },
    {
      "cell_type": "code",
      "execution_count": null,
      "metadata": {
        "colab": {
          "base_uri": "https://localhost:8080/"
        },
        "id": "1hFOBUTt9y3a",
        "outputId": "36af71ff-0e26-4914-d737-f80d062c5220"
      },
      "outputs": [
        {
          "output_type": "stream",
          "name": "stderr",
          "text": [
            "100%|██████████| 8/8 [00:17<00:00,  2.24s/it]\n"
          ]
        },
        {
          "output_type": "stream",
          "name": "stdout",
          "text": [
            "Epoch 1: Saving new best model with sensitivity 0.1818\n",
            "Epoch 1: Train Loss 0.6779, Train Accuracy 0.5575, Val Loss 0.6678, Val Accuracy 0.7108, Sensitivity 0.1818\n",
            "lr:  1e-07\n"
          ]
        },
        {
          "output_type": "stream",
          "name": "stderr",
          "text": [
            "100%|██████████| 8/8 [00:17<00:00,  2.21s/it]\n"
          ]
        },
        {
          "output_type": "stream",
          "name": "stdout",
          "text": [
            "Epoch 2: Train Loss 0.6681, Train Accuracy 0.5893, Val Loss 0.6701, Val Accuracy 0.6988, Sensitivity 0.1818\n",
            "lr:  1e-07\n"
          ]
        },
        {
          "output_type": "stream",
          "name": "stderr",
          "text": [
            "100%|██████████| 8/8 [00:17<00:00,  2.25s/it]\n"
          ]
        },
        {
          "output_type": "stream",
          "name": "stdout",
          "text": [
            "Epoch 3: Train Loss 0.6604, Train Accuracy 0.6052, Val Loss 0.6729, Val Accuracy 0.6988, Sensitivity 0.1818\n",
            "lr:  1e-07\n"
          ]
        },
        {
          "output_type": "stream",
          "name": "stderr",
          "text": [
            "100%|██████████| 8/8 [00:18<00:00,  2.31s/it]\n"
          ]
        },
        {
          "output_type": "stream",
          "name": "stdout",
          "text": [
            "Epoch 4: Train Loss 0.6530, Train Accuracy 0.6290, Val Loss 0.6757, Val Accuracy 0.6867, Sensitivity 0.1818\n",
            "lr:  1e-07\n"
          ]
        },
        {
          "output_type": "stream",
          "name": "stderr",
          "text": [
            "100%|██████████| 8/8 [00:18<00:00,  2.31s/it]\n"
          ]
        },
        {
          "output_type": "stream",
          "name": "stdout",
          "text": [
            "Epoch 5: Train Loss 0.6461, Train Accuracy 0.6448, Val Loss 0.6787, Val Accuracy 0.6867, Sensitivity 0.1818\n",
            "lr:  1e-07\n"
          ]
        },
        {
          "output_type": "stream",
          "name": "stderr",
          "text": [
            "100%|██████████| 8/8 [00:18<00:00,  2.27s/it]\n"
          ]
        },
        {
          "output_type": "stream",
          "name": "stdout",
          "text": [
            "Epoch 6: Train Loss 0.6395, Train Accuracy 0.6647, Val Loss 0.6816, Val Accuracy 0.6627, Sensitivity 0.1818\n",
            "lr:  1e-07\n"
          ]
        },
        {
          "output_type": "stream",
          "name": "stderr",
          "text": [
            "100%|██████████| 8/8 [00:18<00:00,  2.27s/it]\n"
          ]
        },
        {
          "output_type": "stream",
          "name": "stdout",
          "text": [
            "Epoch 7: Train Loss 0.6333, Train Accuracy 0.6746, Val Loss 0.6845, Val Accuracy 0.6627, Sensitivity 0.1818\n",
            "lr:  1e-07\n"
          ]
        },
        {
          "output_type": "stream",
          "name": "stderr",
          "text": [
            "100%|██████████| 8/8 [00:18<00:00,  2.28s/it]\n"
          ]
        },
        {
          "output_type": "stream",
          "name": "stdout",
          "text": [
            "Epoch 8: Train Loss 0.6274, Train Accuracy 0.6865, Val Loss 0.6874, Val Accuracy 0.6506, Sensitivity 0.1818\n",
            "lr:  1e-07\n"
          ]
        },
        {
          "output_type": "stream",
          "name": "stderr",
          "text": [
            "100%|██████████| 8/8 [00:18<00:00,  2.29s/it]\n"
          ]
        },
        {
          "output_type": "stream",
          "name": "stdout",
          "text": [
            "Epoch 9: Train Loss 0.6219, Train Accuracy 0.6964, Val Loss 0.6903, Val Accuracy 0.6265, Sensitivity 0.1818\n",
            "lr:  1e-07\n"
          ]
        },
        {
          "output_type": "stream",
          "name": "stderr",
          "text": [
            "100%|██████████| 8/8 [00:18<00:00,  2.29s/it]\n"
          ]
        },
        {
          "output_type": "stream",
          "name": "stdout",
          "text": [
            "Epoch 10: Train Loss 0.6166, Train Accuracy 0.7044, Val Loss 0.6931, Val Accuracy 0.6265, Sensitivity 0.1818\n",
            "lr:  1e-07\n"
          ]
        },
        {
          "output_type": "stream",
          "name": "stderr",
          "text": [
            "100%|██████████| 8/8 [00:18<00:00,  2.28s/it]\n"
          ]
        },
        {
          "output_type": "stream",
          "name": "stdout",
          "text": [
            "Epoch 11: Train Loss 0.6117, Train Accuracy 0.7123, Val Loss 0.6958, Val Accuracy 0.6265, Sensitivity 0.1818\n",
            "lr:  1e-07\n"
          ]
        },
        {
          "output_type": "stream",
          "name": "stderr",
          "text": [
            "100%|██████████| 8/8 [00:18<00:00,  2.27s/it]\n"
          ]
        },
        {
          "output_type": "stream",
          "name": "stdout",
          "text": [
            "Epoch 12: Train Loss 0.6070, Train Accuracy 0.7202, Val Loss 0.6984, Val Accuracy 0.6145, Sensitivity 0.1818\n",
            "lr:  1e-07\n"
          ]
        },
        {
          "output_type": "stream",
          "name": "stderr",
          "text": [
            "100%|██████████| 8/8 [00:18<00:00,  2.27s/it]\n"
          ]
        },
        {
          "output_type": "stream",
          "name": "stdout",
          "text": [
            "Epoch 13: Train Loss 0.6025, Train Accuracy 0.7282, Val Loss 0.7010, Val Accuracy 0.6024, Sensitivity 0.1818\n",
            "lr:  1e-07\n"
          ]
        },
        {
          "output_type": "stream",
          "name": "stderr",
          "text": [
            "100%|██████████| 8/8 [00:18<00:00,  2.30s/it]\n"
          ]
        },
        {
          "output_type": "stream",
          "name": "stdout",
          "text": [
            "Epoch 14: Train Loss 0.5982, Train Accuracy 0.7401, Val Loss 0.7035, Val Accuracy 0.6024, Sensitivity 0.1818\n",
            "lr:  1e-07\n"
          ]
        },
        {
          "output_type": "stream",
          "name": "stderr",
          "text": [
            "100%|██████████| 8/8 [00:18<00:00,  2.28s/it]\n"
          ]
        },
        {
          "output_type": "stream",
          "name": "stdout",
          "text": [
            "Epoch 15: Train Loss 0.5941, Train Accuracy 0.7421, Val Loss 0.7060, Val Accuracy 0.5904, Sensitivity 0.1818\n",
            "lr:  1e-07\n"
          ]
        },
        {
          "output_type": "stream",
          "name": "stderr",
          "text": [
            "100%|██████████| 8/8 [00:18<00:00,  2.29s/it]\n"
          ]
        },
        {
          "output_type": "stream",
          "name": "stdout",
          "text": [
            "Epoch 16: Train Loss 0.5902, Train Accuracy 0.7361, Val Loss 0.7083, Val Accuracy 0.5783, Sensitivity 0.1818\n",
            "lr:  1e-07\n"
          ]
        },
        {
          "output_type": "stream",
          "name": "stderr",
          "text": [
            "100%|██████████| 8/8 [00:18<00:00,  2.28s/it]\n"
          ]
        },
        {
          "output_type": "stream",
          "name": "stdout",
          "text": [
            "Epoch 17: Train Loss 0.5865, Train Accuracy 0.7421, Val Loss 0.7106, Val Accuracy 0.5663, Sensitivity 0.1818\n",
            "lr:  1e-07\n"
          ]
        },
        {
          "output_type": "stream",
          "name": "stderr",
          "text": [
            "100%|██████████| 8/8 [00:18<00:00,  2.28s/it]\n"
          ]
        },
        {
          "output_type": "stream",
          "name": "stdout",
          "text": [
            "Epoch 18: Saving new best model with sensitivity 0.2727\n",
            "Epoch 18: Train Loss 0.5829, Train Accuracy 0.7421, Val Loss 0.7128, Val Accuracy 0.5783, Sensitivity 0.2727\n",
            "lr:  1e-07\n"
          ]
        },
        {
          "output_type": "stream",
          "name": "stderr",
          "text": [
            "100%|██████████| 8/8 [00:18<00:00,  2.29s/it]\n"
          ]
        },
        {
          "output_type": "stream",
          "name": "stdout",
          "text": [
            "Epoch 19: Train Loss 0.5794, Train Accuracy 0.7401, Val Loss 0.7148, Val Accuracy 0.5663, Sensitivity 0.2727\n",
            "lr:  1e-07\n"
          ]
        },
        {
          "output_type": "stream",
          "name": "stderr",
          "text": [
            "100%|██████████| 8/8 [00:18<00:00,  2.28s/it]\n"
          ]
        },
        {
          "output_type": "stream",
          "name": "stdout",
          "text": [
            "Epoch 20: Train Loss 0.5761, Train Accuracy 0.7401, Val Loss 0.7168, Val Accuracy 0.5542, Sensitivity 0.2727\n",
            "lr:  1e-07\n"
          ]
        },
        {
          "output_type": "stream",
          "name": "stderr",
          "text": [
            "100%|██████████| 8/8 [00:18<00:00,  2.29s/it]\n"
          ]
        },
        {
          "output_type": "stream",
          "name": "stdout",
          "text": [
            "Epoch 21: Train Loss 0.5729, Train Accuracy 0.7421, Val Loss 0.7187, Val Accuracy 0.5542, Sensitivity 0.2727\n",
            "lr:  1e-07\n"
          ]
        },
        {
          "output_type": "stream",
          "name": "stderr",
          "text": [
            "100%|██████████| 8/8 [00:18<00:00,  2.28s/it]\n"
          ]
        },
        {
          "output_type": "stream",
          "name": "stdout",
          "text": [
            "Epoch 22: Train Loss 0.5697, Train Accuracy 0.7421, Val Loss 0.7206, Val Accuracy 0.5542, Sensitivity 0.2727\n",
            "lr:  1e-07\n"
          ]
        },
        {
          "output_type": "stream",
          "name": "stderr",
          "text": [
            "100%|██████████| 8/8 [00:18<00:00,  2.28s/it]\n"
          ]
        },
        {
          "output_type": "stream",
          "name": "stdout",
          "text": [
            "Epoch 23: Train Loss 0.5667, Train Accuracy 0.7480, Val Loss 0.7223, Val Accuracy 0.5542, Sensitivity 0.2727\n",
            "lr:  1e-07\n"
          ]
        },
        {
          "output_type": "stream",
          "name": "stderr",
          "text": [
            "100%|██████████| 8/8 [00:18<00:00,  2.29s/it]\n"
          ]
        },
        {
          "output_type": "stream",
          "name": "stdout",
          "text": [
            "Epoch 24: Train Loss 0.5637, Train Accuracy 0.7500, Val Loss 0.7239, Val Accuracy 0.5542, Sensitivity 0.2727\n",
            "lr:  1e-07\n"
          ]
        },
        {
          "output_type": "stream",
          "name": "stderr",
          "text": [
            "100%|██████████| 8/8 [00:18<00:00,  2.28s/it]\n"
          ]
        },
        {
          "output_type": "stream",
          "name": "stdout",
          "text": [
            "Epoch 25: Train Loss 0.5609, Train Accuracy 0.7540, Val Loss 0.7254, Val Accuracy 0.5542, Sensitivity 0.2727\n",
            "lr:  1e-07\n"
          ]
        },
        {
          "output_type": "stream",
          "name": "stderr",
          "text": [
            "100%|██████████| 8/8 [00:18<00:00,  2.28s/it]\n"
          ]
        },
        {
          "output_type": "stream",
          "name": "stdout",
          "text": [
            "Epoch 26: Train Loss 0.5580, Train Accuracy 0.7540, Val Loss 0.7269, Val Accuracy 0.5542, Sensitivity 0.2727\n",
            "lr:  1e-07\n"
          ]
        },
        {
          "output_type": "stream",
          "name": "stderr",
          "text": [
            "100%|██████████| 8/8 [00:18<00:00,  2.28s/it]\n"
          ]
        },
        {
          "output_type": "stream",
          "name": "stdout",
          "text": [
            "Epoch 27: Train Loss 0.5553, Train Accuracy 0.7540, Val Loss 0.7283, Val Accuracy 0.5422, Sensitivity 0.2727\n",
            "lr:  1e-07\n"
          ]
        },
        {
          "output_type": "stream",
          "name": "stderr",
          "text": [
            "100%|██████████| 8/8 [00:18<00:00,  2.29s/it]\n"
          ]
        },
        {
          "output_type": "stream",
          "name": "stdout",
          "text": [
            "Epoch 28: Train Loss 0.5526, Train Accuracy 0.7560, Val Loss 0.7295, Val Accuracy 0.5422, Sensitivity 0.2727\n",
            "lr:  1e-07\n"
          ]
        },
        {
          "output_type": "stream",
          "name": "stderr",
          "text": [
            "100%|██████████| 8/8 [00:18<00:00,  2.29s/it]\n"
          ]
        },
        {
          "output_type": "stream",
          "name": "stdout",
          "text": [
            "Epoch 29: Train Loss 0.5500, Train Accuracy 0.7579, Val Loss 0.7307, Val Accuracy 0.5422, Sensitivity 0.2727\n",
            "lr:  1e-07\n"
          ]
        },
        {
          "output_type": "stream",
          "name": "stderr",
          "text": [
            "100%|██████████| 8/8 [00:18<00:00,  2.30s/it]\n"
          ]
        },
        {
          "output_type": "stream",
          "name": "stdout",
          "text": [
            "Epoch 30: Saving new best model with sensitivity 0.3636\n",
            "Epoch 30: Train Loss 0.5474, Train Accuracy 0.7659, Val Loss 0.7318, Val Accuracy 0.5542, Sensitivity 0.3636\n",
            "lr:  1e-07\n"
          ]
        },
        {
          "output_type": "stream",
          "name": "stderr",
          "text": [
            "100%|██████████| 8/8 [00:18<00:00,  2.28s/it]\n"
          ]
        },
        {
          "output_type": "stream",
          "name": "stdout",
          "text": [
            "Epoch 31: Train Loss 0.5448, Train Accuracy 0.7659, Val Loss 0.7328, Val Accuracy 0.5542, Sensitivity 0.3636\n",
            "lr:  1e-07\n"
          ]
        },
        {
          "output_type": "stream",
          "name": "stderr",
          "text": [
            "100%|██████████| 8/8 [00:18<00:00,  2.28s/it]\n"
          ]
        },
        {
          "output_type": "stream",
          "name": "stdout",
          "text": [
            "Epoch 32: Train Loss 0.5423, Train Accuracy 0.7679, Val Loss 0.7338, Val Accuracy 0.5542, Sensitivity 0.3636\n",
            "lr:  1e-07\n"
          ]
        },
        {
          "output_type": "stream",
          "name": "stderr",
          "text": [
            "100%|██████████| 8/8 [00:18<00:00,  2.28s/it]\n"
          ]
        },
        {
          "output_type": "stream",
          "name": "stdout",
          "text": [
            "Epoch 33: Train Loss 0.5398, Train Accuracy 0.7718, Val Loss 0.7346, Val Accuracy 0.5542, Sensitivity 0.3636\n",
            "lr:  1e-07\n"
          ]
        },
        {
          "output_type": "stream",
          "name": "stderr",
          "text": [
            "100%|██████████| 8/8 [00:18<00:00,  2.29s/it]\n"
          ]
        },
        {
          "output_type": "stream",
          "name": "stdout",
          "text": [
            "Epoch 34: Train Loss 0.5374, Train Accuracy 0.7718, Val Loss 0.7354, Val Accuracy 0.5542, Sensitivity 0.3636\n",
            "lr:  1e-07\n"
          ]
        },
        {
          "output_type": "stream",
          "name": "stderr",
          "text": [
            "100%|██████████| 8/8 [00:18<00:00,  2.28s/it]\n"
          ]
        },
        {
          "output_type": "stream",
          "name": "stdout",
          "text": [
            "Epoch 35: Train Loss 0.5350, Train Accuracy 0.7738, Val Loss 0.7361, Val Accuracy 0.5542, Sensitivity 0.3636\n",
            "lr:  1e-07\n"
          ]
        },
        {
          "output_type": "stream",
          "name": "stderr",
          "text": [
            "100%|██████████| 8/8 [00:18<00:00,  2.29s/it]\n"
          ]
        },
        {
          "output_type": "stream",
          "name": "stdout",
          "text": [
            "Epoch 36: Train Loss 0.5326, Train Accuracy 0.7738, Val Loss 0.7368, Val Accuracy 0.5542, Sensitivity 0.3636\n",
            "lr:  1e-07\n"
          ]
        },
        {
          "output_type": "stream",
          "name": "stderr",
          "text": [
            "100%|██████████| 8/8 [00:18<00:00,  2.29s/it]\n"
          ]
        },
        {
          "output_type": "stream",
          "name": "stdout",
          "text": [
            "Epoch 37: Train Loss 0.5302, Train Accuracy 0.7738, Val Loss 0.7373, Val Accuracy 0.5542, Sensitivity 0.3636\n",
            "lr:  1e-07\n"
          ]
        },
        {
          "output_type": "stream",
          "name": "stderr",
          "text": [
            "100%|██████████| 8/8 [00:18<00:00,  2.28s/it]\n"
          ]
        },
        {
          "output_type": "stream",
          "name": "stdout",
          "text": [
            "Epoch 38: Train Loss 0.5279, Train Accuracy 0.7738, Val Loss 0.7379, Val Accuracy 0.5542, Sensitivity 0.3636\n",
            "lr:  1e-07\n"
          ]
        },
        {
          "output_type": "stream",
          "name": "stderr",
          "text": [
            "100%|██████████| 8/8 [00:18<00:00,  2.28s/it]\n"
          ]
        },
        {
          "output_type": "stream",
          "name": "stdout",
          "text": [
            "Epoch 39: Train Loss 0.5256, Train Accuracy 0.7817, Val Loss 0.7383, Val Accuracy 0.5542, Sensitivity 0.3636\n",
            "lr:  1e-07\n"
          ]
        },
        {
          "output_type": "stream",
          "name": "stderr",
          "text": [
            "100%|██████████| 8/8 [00:18<00:00,  2.28s/it]\n"
          ]
        },
        {
          "output_type": "stream",
          "name": "stdout",
          "text": [
            "Epoch 40: Train Loss 0.5233, Train Accuracy 0.7817, Val Loss 0.7387, Val Accuracy 0.5542, Sensitivity 0.3636\n",
            "lr:  8e-08\n"
          ]
        },
        {
          "output_type": "stream",
          "name": "stderr",
          "text": [
            "100%|██████████| 8/8 [00:18<00:00,  2.27s/it]\n"
          ]
        },
        {
          "output_type": "stream",
          "name": "stdout",
          "text": [
            "Epoch 41: Train Loss 0.5212, Train Accuracy 0.7837, Val Loss 0.7389, Val Accuracy 0.5542, Sensitivity 0.3636\n",
            "lr:  8e-08\n"
          ]
        },
        {
          "output_type": "stream",
          "name": "stderr",
          "text": [
            "100%|██████████| 8/8 [00:18<00:00,  2.28s/it]\n"
          ]
        },
        {
          "output_type": "stream",
          "name": "stdout",
          "text": [
            "Epoch 42: Train Loss 0.5194, Train Accuracy 0.7837, Val Loss 0.7391, Val Accuracy 0.5542, Sensitivity 0.3636\n",
            "lr:  8e-08\n"
          ]
        },
        {
          "output_type": "stream",
          "name": "stderr",
          "text": [
            "100%|██████████| 8/8 [00:18<00:00,  2.29s/it]\n"
          ]
        },
        {
          "output_type": "stream",
          "name": "stdout",
          "text": [
            "Epoch 43: Train Loss 0.5176, Train Accuracy 0.7837, Val Loss 0.7393, Val Accuracy 0.5542, Sensitivity 0.3636\n",
            "lr:  8e-08\n"
          ]
        },
        {
          "output_type": "stream",
          "name": "stderr",
          "text": [
            "100%|██████████| 8/8 [00:18<00:00,  2.29s/it]\n"
          ]
        },
        {
          "output_type": "stream",
          "name": "stdout",
          "text": [
            "Epoch 44: Train Loss 0.5158, Train Accuracy 0.7837, Val Loss 0.7395, Val Accuracy 0.5542, Sensitivity 0.3636\n",
            "lr:  8e-08\n"
          ]
        },
        {
          "output_type": "stream",
          "name": "stderr",
          "text": [
            "100%|██████████| 8/8 [00:18<00:00,  2.29s/it]\n"
          ]
        },
        {
          "output_type": "stream",
          "name": "stdout",
          "text": [
            "Epoch 45: Train Loss 0.5140, Train Accuracy 0.7837, Val Loss 0.7396, Val Accuracy 0.5663, Sensitivity 0.3636\n",
            "lr:  8e-08\n"
          ]
        },
        {
          "output_type": "stream",
          "name": "stderr",
          "text": [
            "100%|██████████| 8/8 [00:18<00:00,  2.28s/it]\n"
          ]
        },
        {
          "output_type": "stream",
          "name": "stdout",
          "text": [
            "Epoch 46: Train Loss 0.5123, Train Accuracy 0.7837, Val Loss 0.7397, Val Accuracy 0.5663, Sensitivity 0.3636\n",
            "lr:  8e-08\n"
          ]
        },
        {
          "output_type": "stream",
          "name": "stderr",
          "text": [
            "100%|██████████| 8/8 [00:18<00:00,  2.29s/it]\n"
          ]
        },
        {
          "output_type": "stream",
          "name": "stdout",
          "text": [
            "Epoch 47: Train Loss 0.5105, Train Accuracy 0.7817, Val Loss 0.7397, Val Accuracy 0.5663, Sensitivity 0.3636\n",
            "lr:  8e-08\n"
          ]
        },
        {
          "output_type": "stream",
          "name": "stderr",
          "text": [
            "100%|██████████| 8/8 [00:18<00:00,  2.28s/it]\n"
          ]
        },
        {
          "output_type": "stream",
          "name": "stdout",
          "text": [
            "Epoch 48: Train Loss 0.5088, Train Accuracy 0.7798, Val Loss 0.7397, Val Accuracy 0.5663, Sensitivity 0.3636\n",
            "lr:  8e-08\n"
          ]
        },
        {
          "output_type": "stream",
          "name": "stderr",
          "text": [
            "100%|██████████| 8/8 [00:18<00:00,  2.28s/it]\n"
          ]
        },
        {
          "output_type": "stream",
          "name": "stdout",
          "text": [
            "Epoch 49: Train Loss 0.5070, Train Accuracy 0.7798, Val Loss 0.7397, Val Accuracy 0.5663, Sensitivity 0.3636\n",
            "lr:  8e-08\n"
          ]
        },
        {
          "output_type": "stream",
          "name": "stderr",
          "text": [
            "100%|██████████| 8/8 [00:18<00:00,  2.28s/it]\n"
          ]
        },
        {
          "output_type": "stream",
          "name": "stdout",
          "text": [
            "Epoch 50: Train Loss 0.5053, Train Accuracy 0.7798, Val Loss 0.7397, Val Accuracy 0.5663, Sensitivity 0.3636\n",
            "lr:  8e-08\n"
          ]
        },
        {
          "output_type": "stream",
          "name": "stderr",
          "text": [
            "100%|██████████| 8/8 [00:18<00:00,  2.29s/it]\n"
          ]
        },
        {
          "output_type": "stream",
          "name": "stdout",
          "text": [
            "Epoch 51: Train Loss 0.5036, Train Accuracy 0.7837, Val Loss 0.7397, Val Accuracy 0.5663, Sensitivity 0.3636\n",
            "lr:  8e-08\n"
          ]
        },
        {
          "output_type": "stream",
          "name": "stderr",
          "text": [
            "100%|██████████| 8/8 [00:18<00:00,  2.29s/it]\n"
          ]
        },
        {
          "output_type": "stream",
          "name": "stdout",
          "text": [
            "Epoch 52: Train Loss 0.5018, Train Accuracy 0.7857, Val Loss 0.7396, Val Accuracy 0.5663, Sensitivity 0.3636\n",
            "lr:  8e-08\n"
          ]
        },
        {
          "output_type": "stream",
          "name": "stderr",
          "text": [
            "100%|██████████| 8/8 [00:18<00:00,  2.28s/it]\n"
          ]
        },
        {
          "output_type": "stream",
          "name": "stdout",
          "text": [
            "Epoch 53: Train Loss 0.5001, Train Accuracy 0.7877, Val Loss 0.7395, Val Accuracy 0.5663, Sensitivity 0.3636\n",
            "lr:  8e-08\n"
          ]
        },
        {
          "output_type": "stream",
          "name": "stderr",
          "text": [
            "100%|██████████| 8/8 [00:18<00:00,  2.28s/it]\n"
          ]
        },
        {
          "output_type": "stream",
          "name": "stdout",
          "text": [
            "Epoch 54: Train Loss 0.4984, Train Accuracy 0.7877, Val Loss 0.7394, Val Accuracy 0.5663, Sensitivity 0.3636\n",
            "lr:  8e-08\n"
          ]
        },
        {
          "output_type": "stream",
          "name": "stderr",
          "text": [
            "100%|██████████| 8/8 [00:18<00:00,  2.28s/it]\n"
          ]
        },
        {
          "output_type": "stream",
          "name": "stdout",
          "text": [
            "Epoch 55: Train Loss 0.4967, Train Accuracy 0.7857, Val Loss 0.7392, Val Accuracy 0.5542, Sensitivity 0.2727\n",
            "lr:  8e-08\n"
          ]
        },
        {
          "output_type": "stream",
          "name": "stderr",
          "text": [
            "100%|██████████| 8/8 [00:18<00:00,  2.29s/it]\n"
          ]
        },
        {
          "output_type": "stream",
          "name": "stdout",
          "text": [
            "Epoch 56: Train Loss 0.4950, Train Accuracy 0.7857, Val Loss 0.7390, Val Accuracy 0.5542, Sensitivity 0.2727\n",
            "lr:  8e-08\n"
          ]
        },
        {
          "output_type": "stream",
          "name": "stderr",
          "text": [
            "100%|██████████| 8/8 [00:18<00:00,  2.29s/it]\n"
          ]
        },
        {
          "output_type": "stream",
          "name": "stdout",
          "text": [
            "Epoch 57: Train Loss 0.4933, Train Accuracy 0.7857, Val Loss 0.7388, Val Accuracy 0.5542, Sensitivity 0.2727\n",
            "lr:  8e-08\n"
          ]
        },
        {
          "output_type": "stream",
          "name": "stderr",
          "text": [
            "100%|██████████| 8/8 [00:18<00:00,  2.28s/it]\n"
          ]
        },
        {
          "output_type": "stream",
          "name": "stdout",
          "text": [
            "Epoch 58: Train Loss 0.4917, Train Accuracy 0.7857, Val Loss 0.7386, Val Accuracy 0.5542, Sensitivity 0.2727\n",
            "lr:  8e-08\n"
          ]
        },
        {
          "output_type": "stream",
          "name": "stderr",
          "text": [
            "100%|██████████| 8/8 [00:18<00:00,  2.27s/it]\n"
          ]
        },
        {
          "output_type": "stream",
          "name": "stdout",
          "text": [
            "Epoch 59: Train Loss 0.4900, Train Accuracy 0.7857, Val Loss 0.7384, Val Accuracy 0.5542, Sensitivity 0.2727\n",
            "lr:  8e-08\n"
          ]
        },
        {
          "output_type": "stream",
          "name": "stderr",
          "text": [
            "100%|██████████| 8/8 [00:18<00:00,  2.28s/it]\n"
          ]
        },
        {
          "output_type": "stream",
          "name": "stdout",
          "text": [
            "Epoch 60: Train Loss 0.4883, Train Accuracy 0.7917, Val Loss 0.7382, Val Accuracy 0.5542, Sensitivity 0.2727\n",
            "lr:  8e-08\n"
          ]
        },
        {
          "output_type": "stream",
          "name": "stderr",
          "text": [
            "100%|██████████| 8/8 [00:18<00:00,  2.28s/it]\n"
          ]
        },
        {
          "output_type": "stream",
          "name": "stdout",
          "text": [
            "Epoch 61: Train Loss 0.4867, Train Accuracy 0.7917, Val Loss 0.7379, Val Accuracy 0.5542, Sensitivity 0.2727\n",
            "lr:  8e-08\n"
          ]
        },
        {
          "output_type": "stream",
          "name": "stderr",
          "text": [
            "100%|██████████| 8/8 [00:18<00:00,  2.27s/it]\n"
          ]
        },
        {
          "output_type": "stream",
          "name": "stdout",
          "text": [
            "Epoch 62: Train Loss 0.4850, Train Accuracy 0.7897, Val Loss 0.7376, Val Accuracy 0.5542, Sensitivity 0.2727\n",
            "lr:  8e-08\n"
          ]
        },
        {
          "output_type": "stream",
          "name": "stderr",
          "text": [
            "100%|██████████| 8/8 [00:18<00:00,  2.27s/it]\n"
          ]
        },
        {
          "output_type": "stream",
          "name": "stdout",
          "text": [
            "Epoch 63: Train Loss 0.4834, Train Accuracy 0.7937, Val Loss 0.7373, Val Accuracy 0.5542, Sensitivity 0.2727\n",
            "lr:  8e-08\n"
          ]
        },
        {
          "output_type": "stream",
          "name": "stderr",
          "text": [
            "100%|██████████| 8/8 [00:18<00:00,  2.28s/it]\n"
          ]
        },
        {
          "output_type": "stream",
          "name": "stdout",
          "text": [
            "Epoch 64: Train Loss 0.4817, Train Accuracy 0.7937, Val Loss 0.7370, Val Accuracy 0.5542, Sensitivity 0.2727\n",
            "lr:  8e-08\n"
          ]
        },
        {
          "output_type": "stream",
          "name": "stderr",
          "text": [
            "100%|██████████| 8/8 [00:18<00:00,  2.28s/it]\n"
          ]
        },
        {
          "output_type": "stream",
          "name": "stdout",
          "text": [
            "Epoch 65: Train Loss 0.4801, Train Accuracy 0.7937, Val Loss 0.7367, Val Accuracy 0.5542, Sensitivity 0.2727\n",
            "lr:  8e-08\n"
          ]
        },
        {
          "output_type": "stream",
          "name": "stderr",
          "text": [
            "100%|██████████| 8/8 [00:18<00:00,  2.29s/it]\n"
          ]
        },
        {
          "output_type": "stream",
          "name": "stdout",
          "text": [
            "Epoch 66: Train Loss 0.4784, Train Accuracy 0.7937, Val Loss 0.7363, Val Accuracy 0.5542, Sensitivity 0.2727\n",
            "lr:  8e-08\n"
          ]
        },
        {
          "output_type": "stream",
          "name": "stderr",
          "text": [
            "100%|██████████| 8/8 [00:18<00:00,  2.28s/it]\n"
          ]
        },
        {
          "output_type": "stream",
          "name": "stdout",
          "text": [
            "Epoch 67: Train Loss 0.4768, Train Accuracy 0.7937, Val Loss 0.7360, Val Accuracy 0.5542, Sensitivity 0.2727\n",
            "lr:  8e-08\n"
          ]
        },
        {
          "output_type": "stream",
          "name": "stderr",
          "text": [
            "100%|██████████| 8/8 [00:18<00:00,  2.28s/it]\n"
          ]
        },
        {
          "output_type": "stream",
          "name": "stdout",
          "text": [
            "Epoch 68: Train Loss 0.4752, Train Accuracy 0.7956, Val Loss 0.7356, Val Accuracy 0.5542, Sensitivity 0.2727\n",
            "lr:  8e-08\n"
          ]
        },
        {
          "output_type": "stream",
          "name": "stderr",
          "text": [
            "100%|██████████| 8/8 [00:18<00:00,  2.28s/it]\n"
          ]
        },
        {
          "output_type": "stream",
          "name": "stdout",
          "text": [
            "Epoch 69: Train Loss 0.4736, Train Accuracy 0.7956, Val Loss 0.7352, Val Accuracy 0.5542, Sensitivity 0.2727\n",
            "lr:  8e-08\n"
          ]
        },
        {
          "output_type": "stream",
          "name": "stderr",
          "text": [
            "100%|██████████| 8/8 [00:18<00:00,  2.28s/it]\n"
          ]
        },
        {
          "output_type": "stream",
          "name": "stdout",
          "text": [
            "Epoch 70: Train Loss 0.4719, Train Accuracy 0.7976, Val Loss 0.7348, Val Accuracy 0.5542, Sensitivity 0.2727\n",
            "lr:  8e-08\n"
          ]
        },
        {
          "output_type": "stream",
          "name": "stderr",
          "text": [
            "100%|██████████| 8/8 [00:18<00:00,  2.29s/it]\n"
          ]
        },
        {
          "output_type": "stream",
          "name": "stdout",
          "text": [
            "Epoch 71: Train Loss 0.4703, Train Accuracy 0.7996, Val Loss 0.7344, Val Accuracy 0.5663, Sensitivity 0.2727\n",
            "lr:  8e-08\n"
          ]
        },
        {
          "output_type": "stream",
          "name": "stderr",
          "text": [
            "100%|██████████| 8/8 [00:18<00:00,  2.28s/it]\n"
          ]
        },
        {
          "output_type": "stream",
          "name": "stdout",
          "text": [
            "Epoch 72: Train Loss 0.4687, Train Accuracy 0.7996, Val Loss 0.7340, Val Accuracy 0.5663, Sensitivity 0.1818\n",
            "lr:  8e-08\n"
          ]
        },
        {
          "output_type": "stream",
          "name": "stderr",
          "text": [
            "100%|██████████| 8/8 [00:18<00:00,  2.29s/it]\n"
          ]
        },
        {
          "output_type": "stream",
          "name": "stdout",
          "text": [
            "Epoch 73: Train Loss 0.4671, Train Accuracy 0.7996, Val Loss 0.7336, Val Accuracy 0.5663, Sensitivity 0.1818\n",
            "lr:  8e-08\n"
          ]
        },
        {
          "output_type": "stream",
          "name": "stderr",
          "text": [
            "100%|██████████| 8/8 [00:18<00:00,  2.28s/it]\n"
          ]
        },
        {
          "output_type": "stream",
          "name": "stdout",
          "text": [
            "Epoch 74: Train Loss 0.4655, Train Accuracy 0.8016, Val Loss 0.7332, Val Accuracy 0.5663, Sensitivity 0.1818\n",
            "lr:  8e-08\n"
          ]
        },
        {
          "output_type": "stream",
          "name": "stderr",
          "text": [
            "100%|██████████| 8/8 [00:18<00:00,  2.29s/it]\n"
          ]
        },
        {
          "output_type": "stream",
          "name": "stdout",
          "text": [
            "Epoch 75: Train Loss 0.4639, Train Accuracy 0.8016, Val Loss 0.7327, Val Accuracy 0.5663, Sensitivity 0.1818\n",
            "lr:  8e-08\n"
          ]
        },
        {
          "output_type": "stream",
          "name": "stderr",
          "text": [
            "100%|██████████| 8/8 [00:18<00:00,  2.28s/it]\n"
          ]
        },
        {
          "output_type": "stream",
          "name": "stdout",
          "text": [
            "Epoch 76: Train Loss 0.4624, Train Accuracy 0.8016, Val Loss 0.7322, Val Accuracy 0.5663, Sensitivity 0.1818\n",
            "lr:  8e-08\n"
          ]
        },
        {
          "output_type": "stream",
          "name": "stderr",
          "text": [
            "100%|██████████| 8/8 [00:18<00:00,  2.28s/it]\n"
          ]
        },
        {
          "output_type": "stream",
          "name": "stdout",
          "text": [
            "Epoch 77: Train Loss 0.4608, Train Accuracy 0.8016, Val Loss 0.7318, Val Accuracy 0.5663, Sensitivity 0.1818\n",
            "lr:  8e-08\n"
          ]
        },
        {
          "output_type": "stream",
          "name": "stderr",
          "text": [
            "100%|██████████| 8/8 [00:18<00:00,  2.29s/it]\n"
          ]
        },
        {
          "output_type": "stream",
          "name": "stdout",
          "text": [
            "Epoch 78: Train Loss 0.4592, Train Accuracy 0.8036, Val Loss 0.7313, Val Accuracy 0.5783, Sensitivity 0.1818\n",
            "lr:  8e-08\n"
          ]
        },
        {
          "output_type": "stream",
          "name": "stderr",
          "text": [
            "100%|██████████| 8/8 [00:18<00:00,  2.27s/it]\n"
          ]
        },
        {
          "output_type": "stream",
          "name": "stdout",
          "text": [
            "Epoch 79: Train Loss 0.4576, Train Accuracy 0.8056, Val Loss 0.7308, Val Accuracy 0.5783, Sensitivity 0.1818\n",
            "lr:  8e-08\n"
          ]
        },
        {
          "output_type": "stream",
          "name": "stderr",
          "text": [
            "100%|██████████| 8/8 [00:18<00:00,  2.27s/it]\n"
          ]
        },
        {
          "output_type": "stream",
          "name": "stdout",
          "text": [
            "Epoch 80: Train Loss 0.4561, Train Accuracy 0.8115, Val Loss 0.7303, Val Accuracy 0.5783, Sensitivity 0.1818\n",
            "lr:  6.4e-08\n"
          ]
        },
        {
          "output_type": "stream",
          "name": "stderr",
          "text": [
            "100%|██████████| 8/8 [00:18<00:00,  2.28s/it]\n"
          ]
        },
        {
          "output_type": "stream",
          "name": "stdout",
          "text": [
            "Epoch 81: Train Loss 0.4546, Train Accuracy 0.8135, Val Loss 0.7299, Val Accuracy 0.5904, Sensitivity 0.1818\n",
            "lr:  6.4e-08\n"
          ]
        },
        {
          "output_type": "stream",
          "name": "stderr",
          "text": [
            "100%|██████████| 8/8 [00:18<00:00,  2.28s/it]\n"
          ]
        },
        {
          "output_type": "stream",
          "name": "stdout",
          "text": [
            "Epoch 82: Train Loss 0.4533, Train Accuracy 0.8155, Val Loss 0.7295, Val Accuracy 0.6024, Sensitivity 0.1818\n",
            "lr:  6.4e-08\n"
          ]
        },
        {
          "output_type": "stream",
          "name": "stderr",
          "text": [
            "100%|██████████| 8/8 [00:18<00:00,  2.28s/it]\n"
          ]
        },
        {
          "output_type": "stream",
          "name": "stdout",
          "text": [
            "Epoch 83: Train Loss 0.4521, Train Accuracy 0.8135, Val Loss 0.7291, Val Accuracy 0.6024, Sensitivity 0.1818\n",
            "lr:  6.4e-08\n"
          ]
        },
        {
          "output_type": "stream",
          "name": "stderr",
          "text": [
            "100%|██████████| 8/8 [00:18<00:00,  2.28s/it]\n"
          ]
        },
        {
          "output_type": "stream",
          "name": "stdout",
          "text": [
            "Epoch 84: Train Loss 0.4508, Train Accuracy 0.8135, Val Loss 0.7287, Val Accuracy 0.6145, Sensitivity 0.1818\n",
            "lr:  6.4e-08\n"
          ]
        },
        {
          "output_type": "stream",
          "name": "stderr",
          "text": [
            "100%|██████████| 8/8 [00:18<00:00,  2.28s/it]\n"
          ]
        },
        {
          "output_type": "stream",
          "name": "stdout",
          "text": [
            "Epoch 85: Train Loss 0.4496, Train Accuracy 0.8135, Val Loss 0.7283, Val Accuracy 0.6145, Sensitivity 0.1818\n",
            "lr:  6.4e-08\n"
          ]
        },
        {
          "output_type": "stream",
          "name": "stderr",
          "text": [
            "100%|██████████| 8/8 [00:18<00:00,  2.28s/it]\n"
          ]
        },
        {
          "output_type": "stream",
          "name": "stdout",
          "text": [
            "Epoch 86: Train Loss 0.4484, Train Accuracy 0.8155, Val Loss 0.7279, Val Accuracy 0.6145, Sensitivity 0.1818\n",
            "lr:  6.4e-08\n"
          ]
        },
        {
          "output_type": "stream",
          "name": "stderr",
          "text": [
            "100%|██████████| 8/8 [00:18<00:00,  2.28s/it]\n"
          ]
        },
        {
          "output_type": "stream",
          "name": "stdout",
          "text": [
            "Epoch 87: Train Loss 0.4471, Train Accuracy 0.8135, Val Loss 0.7274, Val Accuracy 0.6145, Sensitivity 0.1818\n",
            "lr:  6.4e-08\n"
          ]
        },
        {
          "output_type": "stream",
          "name": "stderr",
          "text": [
            "100%|██████████| 8/8 [00:18<00:00,  2.29s/it]\n"
          ]
        },
        {
          "output_type": "stream",
          "name": "stdout",
          "text": [
            "Epoch 88: Train Loss 0.4459, Train Accuracy 0.8155, Val Loss 0.7270, Val Accuracy 0.6145, Sensitivity 0.1818\n",
            "lr:  6.4e-08\n"
          ]
        },
        {
          "output_type": "stream",
          "name": "stderr",
          "text": [
            "100%|██████████| 8/8 [00:18<00:00,  2.28s/it]\n"
          ]
        },
        {
          "output_type": "stream",
          "name": "stdout",
          "text": [
            "Epoch 89: Train Loss 0.4447, Train Accuracy 0.8155, Val Loss 0.7266, Val Accuracy 0.6145, Sensitivity 0.1818\n",
            "lr:  6.4e-08\n"
          ]
        },
        {
          "output_type": "stream",
          "name": "stderr",
          "text": [
            "100%|██████████| 8/8 [00:18<00:00,  2.27s/it]\n"
          ]
        },
        {
          "output_type": "stream",
          "name": "stdout",
          "text": [
            "Epoch 90: Train Loss 0.4434, Train Accuracy 0.8135, Val Loss 0.7262, Val Accuracy 0.6145, Sensitivity 0.1818\n",
            "lr:  6.4e-08\n"
          ]
        },
        {
          "output_type": "stream",
          "name": "stderr",
          "text": [
            "100%|██████████| 8/8 [00:18<00:00,  2.28s/it]\n"
          ]
        },
        {
          "output_type": "stream",
          "name": "stdout",
          "text": [
            "Epoch 91: Train Loss 0.4422, Train Accuracy 0.8135, Val Loss 0.7257, Val Accuracy 0.6145, Sensitivity 0.1818\n",
            "lr:  6.4e-08\n"
          ]
        },
        {
          "output_type": "stream",
          "name": "stderr",
          "text": [
            "100%|██████████| 8/8 [00:18<00:00,  2.29s/it]\n"
          ]
        },
        {
          "output_type": "stream",
          "name": "stdout",
          "text": [
            "Epoch 92: Train Loss 0.4410, Train Accuracy 0.8135, Val Loss 0.7253, Val Accuracy 0.6145, Sensitivity 0.1818\n",
            "lr:  6.4e-08\n"
          ]
        },
        {
          "output_type": "stream",
          "name": "stderr",
          "text": [
            "100%|██████████| 8/8 [00:18<00:00,  2.29s/it]\n"
          ]
        },
        {
          "output_type": "stream",
          "name": "stdout",
          "text": [
            "Epoch 93: Train Loss 0.4398, Train Accuracy 0.8115, Val Loss 0.7248, Val Accuracy 0.6145, Sensitivity 0.1818\n",
            "lr:  6.4e-08\n"
          ]
        },
        {
          "output_type": "stream",
          "name": "stderr",
          "text": [
            "100%|██████████| 8/8 [00:18<00:00,  2.29s/it]\n"
          ]
        },
        {
          "output_type": "stream",
          "name": "stdout",
          "text": [
            "Epoch 94: Train Loss 0.4386, Train Accuracy 0.8135, Val Loss 0.7244, Val Accuracy 0.6145, Sensitivity 0.1818\n",
            "lr:  6.4e-08\n"
          ]
        },
        {
          "output_type": "stream",
          "name": "stderr",
          "text": [
            "100%|██████████| 8/8 [00:18<00:00,  2.27s/it]\n"
          ]
        },
        {
          "output_type": "stream",
          "name": "stdout",
          "text": [
            "Epoch 95: Train Loss 0.4374, Train Accuracy 0.8135, Val Loss 0.7239, Val Accuracy 0.6145, Sensitivity 0.1818\n",
            "lr:  6.4e-08\n"
          ]
        },
        {
          "output_type": "stream",
          "name": "stderr",
          "text": [
            "100%|██████████| 8/8 [00:18<00:00,  2.28s/it]\n"
          ]
        },
        {
          "output_type": "stream",
          "name": "stdout",
          "text": [
            "Epoch 96: Train Loss 0.4362, Train Accuracy 0.8155, Val Loss 0.7235, Val Accuracy 0.6145, Sensitivity 0.1818\n",
            "lr:  6.4e-08\n"
          ]
        },
        {
          "output_type": "stream",
          "name": "stderr",
          "text": [
            "100%|██████████| 8/8 [00:18<00:00,  2.28s/it]\n"
          ]
        },
        {
          "output_type": "stream",
          "name": "stdout",
          "text": [
            "Epoch 97: Train Loss 0.4350, Train Accuracy 0.8155, Val Loss 0.7230, Val Accuracy 0.6145, Sensitivity 0.1818\n",
            "lr:  6.4e-08\n"
          ]
        },
        {
          "output_type": "stream",
          "name": "stderr",
          "text": [
            "100%|██████████| 8/8 [00:18<00:00,  2.28s/it]\n"
          ]
        },
        {
          "output_type": "stream",
          "name": "stdout",
          "text": [
            "Epoch 98: Train Loss 0.4338, Train Accuracy 0.8155, Val Loss 0.7226, Val Accuracy 0.6145, Sensitivity 0.1818\n",
            "lr:  6.4e-08\n"
          ]
        },
        {
          "output_type": "stream",
          "name": "stderr",
          "text": [
            "100%|██████████| 8/8 [00:18<00:00,  2.28s/it]\n"
          ]
        },
        {
          "output_type": "stream",
          "name": "stdout",
          "text": [
            "Epoch 99: Train Loss 0.4326, Train Accuracy 0.8155, Val Loss 0.7221, Val Accuracy 0.6145, Sensitivity 0.1818\n",
            "lr:  6.4e-08\n"
          ]
        },
        {
          "output_type": "stream",
          "name": "stderr",
          "text": [
            "100%|██████████| 8/8 [00:18<00:00,  2.27s/it]\n"
          ]
        },
        {
          "output_type": "stream",
          "name": "stdout",
          "text": [
            "Epoch 100: Train Loss 0.4314, Train Accuracy 0.8155, Val Loss 0.7217, Val Accuracy 0.6145, Sensitivity 0.1818\n",
            "lr:  6.4e-08\n"
          ]
        },
        {
          "output_type": "execute_result",
          "data": {
            "text/plain": [
              "<All keys matched successfully>"
            ]
          },
          "metadata": {},
          "execution_count": 13
        }
      ],
      "source": [
        "model_state_dict = train(model = model,\n",
        "                         train_loader = train_loader,\n",
        "                         valid_loader = valid_loader,\n",
        "                         criterion = criterion,\n",
        "                         optimizer = optimizer)\n",
        "model.load_state_dict(model_state_dict)"
      ]
    },
    {
      "cell_type": "code",
      "execution_count": null,
      "metadata": {
        "id": "zknmUVHQ98cL",
        "colab": {
          "base_uri": "https://localhost:8080/",
          "height": 507
        },
        "outputId": "3984d422-5d9c-4057-9a18-85025d624112"
      },
      "outputs": [
        {
          "output_type": "display_data",
          "data": {
            "text/plain": [
              "<Figure size 1000x500 with 2 Axes>"
            ],
            "image/png": "[encoded data removed]"
          },
          "metadata": {}
        }
      ],
      "source": [
        "# Plotting the training and validation loss\n",
        "plt.figure(figsize=(10, 5))\n",
        "plt.subplot(1, 2, 1)\n",
        "plt.plot(train_losses, label='Training Loss')\n",
        "plt.plot(val_losses, label='Validation Loss')\n",
        "plt.title('Loss over epochs')\n",
        "plt.xlabel('Epochs')\n",
        "plt.ylabel('Loss')\n",
        "plt.legend()\n",
        "\n",
        "# Plotting the training and validation accuracy\n",
        "plt.subplot(1, 2, 2)\n",
        "plt.plot(train_accuracies, label='Training Accuracy')\n",
        "plt.plot(val_accuracies, label='Validation Accuracy')\n",
        "plt.title('Accuracy over epochs')\n",
        "plt.xlabel('Epochs')\n",
        "plt.ylabel('Accuracy')\n",
        "plt.legend()\n",
        "\n",
        "plt.tight_layout()\n",
        "plt.show()\n"
      ]
    },
    {
      "cell_type": "markdown",
      "metadata": {
        "id": "yA03SYG7-Yoq"
      },
      "source": [
        "# **t-SNE After Training**"
      ]
    },
    {
      "cell_type": "code",
      "execution_count": null,
      "metadata": {
        "id": "SvfHNuHC-UPj",
        "colab": {
          "base_uri": "https://localhost:8080/",
          "height": 545
        },
        "outputId": "641ca249-2490-4de8-8e5d-be1aedb31a43"
      },
      "outputs": [
        {
          "output_type": "display_data",
          "data": {
            "text/plain": [
              "<Figure size 1200x600 with 2 Axes>"
            ],
            "image/png": "[encoded data removed]"
          },
          "metadata": {}
        }
      ],
      "source": [
        "# 모델 상태 사전 파일을 로드합니다.\n",
        "model_state_dict = torch.load('model_state_dict.pth')\n",
        "\n",
        "# 모델에 상태 사전을 로드합니다.\n",
        "model.load_state_dict(model_state_dict)\n",
        "\n",
        "\n",
        "# 훈련 및 검증 데이터셋의 특성 추출\n",
        "train_paths, train_features, train_labels = extract_features(model, train_loader)\n",
        "val_paths, val_features, val_labels = extract_features(model, valid_loader)\n",
        "\n",
        "# 2차원 t-SNE 모델 생성 및 특성 축소\n",
        "tsne_2d = TSNE(n_components=2, random_state=0, perplexity=20)\n",
        "train_features_2d = tsne_2d.fit_transform(train_features)\n",
        "val_features_2d = tsne_2d.fit_transform(val_features)\n",
        "\n",
        "fig = plt.figure(figsize=(12, 6))\n",
        "\n",
        "# 2차원 산점도 그리기 - 훈련 데이터셋\n",
        "ax1 = fig.add_subplot(121)\n",
        "ax1.scatter(train_features_2d[train_labels == 0, 0],\n",
        "            train_features_2d[train_labels == 0, 1],\n",
        "            s=50, c='blue', label='g1', alpha=0.5)\n",
        "ax1.scatter(train_features_2d[train_labels == 1, 0],\n",
        "            train_features_2d[train_labels == 1, 1],\n",
        "            s=50, c='red', label='g2', alpha=0.5)\n",
        "ax1.set_title('Training Dataset After Training')\n",
        "ax1.legend()\n",
        "\n",
        "# 2차원 산점도 그리기 - 검증 데이터셋\n",
        "ax2 = fig.add_subplot(122)\n",
        "ax2.scatter(val_features_2d[val_labels == 0, 0],\n",
        "            val_features_2d[val_labels == 0, 1],\n",
        "            s=50, c='blue', label='g1', alpha=0.5)\n",
        "ax2.scatter(val_features_2d[val_labels == 1, 0],\n",
        "            val_features_2d[val_labels == 1, 1],\n",
        "            s=50, c='red', label='g2', alpha=0.5)\n",
        "ax2.set_title('Validation Dataset After Training')\n",
        "ax2.legend()\n",
        "\n",
        "plt.show()\n"
      ]
    },
    {
      "cell_type": "markdown",
      "metadata": {
        "id": "djCR71sZ-2wZ"
      },
      "source": [
        "# **Test**"
      ]
    },
    {
      "cell_type": "code",
      "source": [
        "import os\n",
        "import pandas as pd\n",
        "import torch\n",
        "from sklearn.metrics import accuracy_score, balanced_accuracy_score, confusion_matrix\n",
        "from sklearn.manifold import TSNE\n",
        "import matplotlib.pyplot as plt\n",
        "import numpy as np\n",
        "\n",
        "output_excel_path = '/content/drive/MyDrive/Colab Notebooks/VCMI/monomodal_HGG/ADC_sens1_test_results.xlsx'\n",
        "\n",
        "def predict_and_visualize(model, test_loader, model_state_dict_path, output_excel_path='test_results.xlsx', random_state=seed):\n",
        "    model.load_state_dict(torch.load(model_state_dict_path))\n",
        "    model.eval()\n",
        "\n",
        "    preds_list = []\n",
        "    true_list = []\n",
        "    features = []\n",
        "    results = []\n",
        "\n",
        "    with torch.no_grad():\n",
        "        for path, data, label in test_loader:\n",
        "            data = data.to(device)\n",
        "            label = label.to(device)\n",
        "\n",
        "            outputs = model(data)\n",
        "            probabilities = torch.softmax(outputs, dim=1)\n",
        "            _, preds = torch.max(probabilities, 1)\n",
        "\n",
        "            # 결과 저장\n",
        "            for i in range(data.size(0)):\n",
        "                results.append({\n",
        "                    'File Name': os.path.basename(path[i]),\n",
        "                    'True Label': label[i].item(),\n",
        "                    'Predicted Label': preds[i].item(),\n",
        "                    'Probability Class 0': probabilities[i][0].item(),  # 클래스 0의 확률\n",
        "                    'Probability Class 1': probabilities[i][1].item(),  # 클래스 1의 확률\n",
        "                    'Correct': label[i].item() == preds[i].item()\n",
        "                })\n",
        "\n",
        "            features.append(outputs.cpu().numpy())\n",
        "            preds_list.extend(preds.cpu().numpy())\n",
        "            true_list.extend(label.cpu().numpy())\n",
        "\n",
        "\n",
        "    features = np.concatenate(features, axis=0)\n",
        "    true_list = np.array(true_list)\n",
        "    preds_list = np.array(preds_list)\n",
        "\n",
        "    # 정확도 및 균형 정확도 출력\n",
        "    print(\"Accuracy for each class:\")\n",
        "    accuracy_g1 = accuracy_score(true_list[true_list == 0], preds_list[true_list == 0])\n",
        "    accuracy_g2 = accuracy_score(true_list[true_list == 1], preds_list[true_list == 1])\n",
        "    print(f\"g1: {accuracy_g1:.4f}\")\n",
        "    print(f\"g2: {accuracy_g2:.4f}\")\n",
        "\n",
        "    balanced_accuracy = balanced_accuracy_score(true_list, preds_list)\n",
        "\n",
        "    # t-SNE 차원 축소 및 시각화\n",
        "    tsne = TSNE(n_components=2, random_state=random_state, perplexity=20)\n",
        "    features_2d = tsne.fit_transform(features)\n",
        "    plt.figure(figsize=(8, 6))\n",
        "    plt.scatter(features_2d[true_list == 0, 0], features_2d[true_list == 0, 1], s=50, c='blue', label='g1', alpha=0.5)\n",
        "    plt.scatter(features_2d[true_list == 1, 0], features_2d[true_list == 1, 1], s=50, c='red', label='g2', alpha=0.5)\n",
        "    plt.title('Test Dataset')\n",
        "    plt.legend()\n",
        "    plt.show()\n",
        "\n",
        "    # 성능 지표 계산\n",
        "    conf_matrix = confusion_matrix(true_list, preds_list)\n",
        "    TN = conf_matrix[0][0]\n",
        "    TP = conf_matrix[1][1]\n",
        "    FN = conf_matrix[1][0]\n",
        "    FP = conf_matrix[0][1]\n",
        "    sensitivity = TP / (TP + FN)\n",
        "    specificity = TN / (TN + FP)\n",
        "    NPV = TN / (TN + FN)\n",
        "    PPV = TP / (TP + FP)\n",
        "    accuracy = accuracy_score(true_list, preds_list)\n",
        "\n",
        "    metrics_df = pd.DataFrame({\n",
        "    'Metric': ['TP', 'TN', 'FP', 'FN', 'sens', 'spec', 'NPV', 'PPV', 'acc'],\n",
        "    'Value': [TP, TN, FP, FN, sensitivity, specificity, NPV, PPV, accuracy]\n",
        "    })\n",
        "\n",
        "    print(metrics_df)\n",
        "\n",
        "    # 결과를 DataFrame으로 변환하고 Excel로 저장\n",
        "    results_df = pd.DataFrame(results)\n",
        "    results_df.to_excel(output_excel_path, index=False)\n",
        "\n",
        "\n",
        "# 함수 호출 예시\n",
        "predict_and_visualize(model, test_loader, 'model_state_dict.pth', output_excel_path)\n"
      ],
      "metadata": {
        "id": "DBzFmv1Whgr-",
        "colab": {
          "base_uri": "https://localhost:8080/",
          "height": 781
        },
        "outputId": "46f75a5d-021d-4416-981d-f51dd62885ca"
      },
      "execution_count": null,
      "outputs": [
        {
          "output_type": "stream",
          "name": "stdout",
          "text": [
            "Accuracy for each class:\n",
            "g1: 0.6500\n",
            "g2: 0.5417\n"
          ]
        },
        {
          "output_type": "display_data",
          "data": {
            "text/plain": [
              "<Figure size 800x600 with 1 Axes>"
            ],
            "image/png": "[encoded data removed]"
          },
          "metadata": {}
        },
        {
          "output_type": "stream",
          "name": "stdout",
          "text": [
            "  Metric       Value\n",
            "0     TP   26.000000\n",
            "1     TN  104.000000\n",
            "2     FP   56.000000\n",
            "3     FN   22.000000\n",
            "4   sens    0.541667\n",
            "5   spec    0.650000\n",
            "6    NPV    0.825397\n",
            "7    PPV    0.317073\n",
            "8    acc    0.625000\n"
          ]
        }
      ]
    }
  ],
  "metadata": {
    "accelerator": "GPU",
    "colab": {
      "gpuType": "T4",
      "provenance": [],
      "machine_shape": "hm",
      "include_colab_link": true
    },
    "kernelspec": {
      "display_name": "Python 3",
      "name": "python3"
    },
    "language_info": {
      "name": "python"
    }
  },
  "nbformat": 4,
  "nbformat_minor": 0
}